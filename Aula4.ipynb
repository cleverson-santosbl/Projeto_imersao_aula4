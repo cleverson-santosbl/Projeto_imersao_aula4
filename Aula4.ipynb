{
  "nbformat": 4,
  "nbformat_minor": 0,
  "metadata": {
    "colab": {
      "provenance": [],
      "authorship_tag": "ABX9TyMZem0xMn10ozseTpA7oQA1",
      "include_colab_link": true
    },
    "kernelspec": {
      "name": "python3",
      "display_name": "Python 3"
    },
    "language_info": {
      "name": "python"
    }
  },
  "cells": [
    {
      "cell_type": "markdown",
      "metadata": {
        "id": "view-in-github",
        "colab_type": "text"
      },
      "source": [
        "<a href=\"https://colab.research.google.com/github/cleverson-santosbl/Projeto_imersao_aula4/blob/main/Aula4.ipynb\" target=\"_parent\"><img src=\"https://colab.research.google.com/assets/colab-badge.svg\" alt=\"Open In Colab\"/></a>"
      ]
    },
    {
      "cell_type": "markdown",
      "source": [
        "Instalando o SDK do Google"
      ],
      "metadata": {
        "id": "9VDjpFFjhwIA"
      }
    },
    {
      "cell_type": "code",
      "execution_count": 1,
      "metadata": {
        "id": "Iakqvz4TeGoQ"
      },
      "outputs": [],
      "source": [
        "!pip install -q -U google-generativeai"
      ]
    },
    {
      "cell_type": "code",
      "source": [
        "# Import the Python SDK\n",
        "import google.generativeai as genai\n",
        "\n",
        "GOOGLE_API_KEY= 'xxxxxx'\n",
        "genai.configure(api_key=GOOGLE_API_KEY)"
      ],
      "metadata": {
        "id": "VPJM7UC6iD-x"
      },
      "execution_count": 3,
      "outputs": []
    },
    {
      "cell_type": "markdown",
      "source": [
        "Listar or modelos disponivies"
      ],
      "metadata": {
        "id": "6vPBe_LdibKh"
      }
    },
    {
      "cell_type": "code",
      "source": [
        "for m in genai.list_models():\n",
        "  if 'generateContent' in m.supported_generation_methods:\n",
        "    print(m.name)\n"
      ],
      "metadata": {
        "colab": {
          "base_uri": "https://localhost:8080/",
          "height": 138
        },
        "id": "v7cIDmI_iYZV",
        "outputId": "5ae1a567-fc21-41cd-fa07-0699df3045ee"
      },
      "execution_count": 4,
      "outputs": [
        {
          "output_type": "stream",
          "name": "stdout",
          "text": [
            "models/gemini-1.0-pro\n",
            "models/gemini-1.0-pro-001\n",
            "models/gemini-1.0-pro-latest\n",
            "models/gemini-1.0-pro-vision-latest\n",
            "models/gemini-1.5-pro-latest\n",
            "models/gemini-pro\n",
            "models/gemini-pro-vision\n"
          ]
        }
      ]
    },
    {
      "cell_type": "markdown",
      "source": [
        "gera configurações acesso referente a Adivanced setings  que tem o IAstudio"
      ],
      "metadata": {
        "id": "h0vM878ekdpZ"
      }
    },
    {
      "cell_type": "code",
      "source": [
        "genation_config = {\n",
        "    \"candidate_count\":1,\n",
        "    \"temperature\": 0.5,\n",
        "#    \"top_p\":0.5,\n",
        "}"
      ],
      "metadata": {
        "id": "Q3P2xvZbj9JJ"
      },
      "execution_count": 8,
      "outputs": []
    },
    {
      "cell_type": "markdown",
      "source": [
        "configura Safaty Setings como equivalente ao que tem no IAstudio"
      ],
      "metadata": {
        "id": "Jzq3AS8GlPAT"
      }
    },
    {
      "cell_type": "code",
      "source": [
        "safety_settings = {\n",
        "    \"HARASSMENT\": \"BLOCK_NONE\",\n",
        "    \"HATE\": \"BLOCK_NONE\",\n",
        "    \"SEXUAL\": \"BLOCK_NONE\",\n",
        "    \"DANGEROUS\": \"BLOCK_NONE\",\n",
        "\n",
        "}"
      ],
      "metadata": {
        "id": "7vgNdgkPkyUw"
      },
      "execution_count": 9,
      "outputs": []
    },
    {
      "cell_type": "markdown",
      "source": [
        "inicializando o modelo"
      ],
      "metadata": {
        "id": "CLMhw6ROm7wI"
      }
    },
    {
      "cell_type": "code",
      "source": [
        "model = genai.GenerativeModel(model_name=\"gemini-1.0-pro\",\n",
        "                              generation_config=genation_config,\n",
        "                              safety_settings=safety_settings)"
      ],
      "metadata": {
        "id": "wfXZIL5xm-vQ"
      },
      "execution_count": 10,
      "outputs": []
    },
    {
      "cell_type": "code",
      "source": [
        "response = model.generate_content(\"vamos falar sobre motos\")\n",
        "print(response.text)"
      ],
      "metadata": {
        "colab": {
          "base_uri": "https://localhost:8080/",
          "height": 644
        },
        "id": "3jgCE6M6nvep",
        "outputId": "56590967-a8b8-444e-9f19-e861292fc2bb"
      },
      "execution_count": 11,
      "outputs": [
        {
          "output_type": "stream",
          "name": "stdout",
          "text": [
            "**Motos: Uma Paixão sobre Duas Rodas**\n",
            "\n",
            "As motos são veículos de duas rodas que oferecem uma experiência de pilotagem emocionante e libertadora. Elas variam amplamente em tamanho, estilo e finalidade, atendendo a diferentes necessidades e preferências.\n",
            "\n",
            "**Tipos de Motos**\n",
            "\n",
            "Existem vários tipos de motos, cada um projetado para um propósito específico:\n",
            "\n",
            "* **Cruisers:** Motos grandes e confortáveis, ideais para passeios longos e descontraídos.\n",
            "* **Esportivas:** Motos leves e ágeis, projetadas para velocidade e desempenho em curvas.\n",
            "* **Touring:** Motos equipadas com malas e comodidades para viagens longas.\n",
            "* **Off-road:** Motos projetadas para terrenos acidentados, como trilhas e dunas.\n",
            "* **Scooters:** Veículos compactos e práticos, ideais para deslocamentos urbanos.\n",
            "\n",
            "**Benefícios de Andar de Moto**\n",
            "\n",
            "Andar de moto oferece vários benefícios:\n",
            "\n",
            "* **Liberdade:** As motos proporcionam uma sensação de liberdade e aventura, permitindo que você explore o mundo em suas próprias condições.\n",
            "* **Eficiência de combustível:** As motos são geralmente mais eficientes em termos de combustível do que os carros.\n",
            "* **Facilidade de estacionamento:** As motos ocupam menos espaço, tornando o estacionamento mais fácil.\n",
            "* **Diversão:** Andar de moto é uma atividade divertida e emocionante que pode aliviar o estresse e melhorar o humor.\n",
            "\n",
            "**Segurança ao Andar de Moto**\n",
            "\n",
            "Embora andar de moto possa ser uma experiência gratificante, é importante priorizar a segurança:\n",
            "\n",
            "* **Use sempre um capacete:** Os capacetes são essenciais para proteger sua cabeça em caso de acidente.\n",
            "* **Vista roupas de proteção:** Jaquetas, calças e luvas de couro podem fornecer proteção contra abrasões e impactos.\n",
            "* **Esteja atento:** Fique atento ao seu redor e antecipe os perigos potenciais.\n",
            "* **Faça um curso de pilotagem:** Os cursos de pilotagem podem ajudá-lo a desenvolver habilidades e conhecimentos de pilotagem seguros.\n",
            "\n",
            "**Conclusão**\n",
            "\n",
            "As motos são veículos versáteis e emocionantes que oferecem uma ampla gama de benefícios. Seja para deslocamentos diários, viagens de aventura ou simplesmente por diversão, andar de moto pode ser uma experiência gratificante e libertadora. Lembre-se sempre de priorizar a segurança e aproveite o passeio!\n"
          ]
        }
      ]
    },
    {
      "cell_type": "markdown",
      "source": [
        "inicialiaza componente de chat boot"
      ],
      "metadata": {
        "id": "Bz2gJRfyogxR"
      }
    },
    {
      "cell_type": "code",
      "source": [
        "chat = model.start_chat(history=[])"
      ],
      "metadata": {
        "id": "jWzx6ktUoKsB"
      },
      "execution_count": 12,
      "outputs": []
    },
    {
      "cell_type": "code",
      "source": [
        "prompt = input(\"Esperando Prompt: \")\n",
        "\n",
        "while prompt != \"fim\":\n",
        "  response = chat.send_message(prompt)\n",
        "  print(\"Resposta: \", response.text, \"\\n\")\n",
        "  prompt = input(\"Esperando Prompt: \")"
      ],
      "metadata": {
        "colab": {
          "base_uri": "https://localhost:8080/",
          "height": 312
        },
        "id": "d6o7VcePovvp",
        "outputId": "ccc32475-fd50-4982-ac86-4d9e4140ae83"
      },
      "execution_count": 14,
      "outputs": [
        {
          "name": "stdout",
          "output_type": "stream",
          "text": [
            "Esperando Prompt: Qual a capital da Italia\n",
            "Resposta:  Roma \n",
            "\n",
            "Esperando Prompt: Qual e a lingua deste pais\n",
            "Resposta:  Italiano \n",
            "\n",
            "Esperando Prompt: quais os paises que fazem fronteira com ele\n",
            "Resposta:  * Áustria\n",
            "* Eslovênia\n",
            "* França\n",
            "* Suíça\n",
            "* Cidade do Vaticano\n",
            "* San Marino\n",
            "\n",
            "(Observação: a Itália também tem uma pequena fronteira com Mônaco, mas é tão pequena que às vezes é ignorada.) \n",
            "\n",
            "Esperando Prompt: fim\n"
          ]
        }
      ]
    },
    {
      "cell_type": "code",
      "source": [
        "chat"
      ],
      "metadata": {
        "colab": {
          "base_uri": "https://localhost:8080/"
        },
        "id": "rJfm971VsPnp",
        "outputId": "d60fb576-d463-42ef-cefd-8d3a3cde102e"
      },
      "execution_count": 16,
      "outputs": [
        {
          "output_type": "execute_result",
          "data": {
            "text/plain": [
              "ChatSession(\n",
              "    model=genai.GenerativeModel(\n",
              "        model_name='models/gemini-1.0-pro',\n",
              "        generation_config={'candidate_count': 1, 'temperature': 0.5},\n",
              "        safety_settings={<HarmCategory.HARM_CATEGORY_HARASSMENT: 7>: <HarmBlockThreshold.BLOCK_NONE: 4>, <HarmCategory.HARM_CATEGORY_HATE_SPEECH: 8>: <HarmBlockThreshold.BLOCK_NONE: 4>, <HarmCategory.HARM_CATEGORY_SEXUALLY_EXPLICIT: 9>: <HarmBlockThreshold.BLOCK_NONE: 4>, <HarmCategory.HARM_CATEGORY_DANGEROUS_CONTENT: 10>: <HarmBlockThreshold.BLOCK_NONE: 4>},\n",
              "        tools=None,\n",
              "        system_instruction=None,\n",
              "    ),\n",
              "    history=[glm.Content({'parts': [{'text': 'Qual a capital da Italia'}], 'role': 'user'}), glm.Content({'parts': [{'text': 'Roma'}], 'role': 'model'}), glm.Content({'parts': [{'text': 'Qual e a lingua deste pais'}], 'role': 'user'}), glm.Content({'parts': [{'text': 'Italiano'}], 'role': 'model'}), glm.Content({'parts': [{'text': 'quais os pai...teira com ele'}], 'role': 'user'}), glm.Content({'parts': [{'text': '* Áustria\\n*... é ignorada.)'}], 'role': 'model'})]\n",
              ")"
            ]
          },
          "metadata": {},
          "execution_count": 16
        }
      ]
    },
    {
      "cell_type": "code",
      "source": [
        "chat.history"
      ],
      "metadata": {
        "colab": {
          "base_uri": "https://localhost:8080/"
        },
        "id": "2zuYCwx_sSxQ",
        "outputId": "08dc0a80-5396-4489-d918-7472b3f07992"
      },
      "execution_count": 17,
      "outputs": [
        {
          "output_type": "execute_result",
          "data": {
            "text/plain": [
              "[parts {\n",
              "   text: \"Qual a capital da Italia\"\n",
              " }\n",
              " role: \"user\",\n",
              " parts {\n",
              "   text: \"Roma\"\n",
              " }\n",
              " role: \"model\",\n",
              " parts {\n",
              "   text: \"Qual e a lingua deste pais\"\n",
              " }\n",
              " role: \"user\",\n",
              " parts {\n",
              "   text: \"Italiano\"\n",
              " }\n",
              " role: \"model\",\n",
              " parts {\n",
              "   text: \"quais os paises que fazem fronteira com ele\"\n",
              " }\n",
              " role: \"user\",\n",
              " parts {\n",
              "   text: \"* \\303\\201ustria\\n* Eslov\\303\\252nia\\n* Fran\\303\\247a\\n* Su\\303\\255\\303\\247a\\n* Cidade do Vaticano\\n* San Marino\\n\\n(Observa\\303\\247\\303\\243o: a It\\303\\241lia tamb\\303\\251m tem uma pequena fronteira com M\\303\\264naco, mas \\303\\251 t\\303\\243o pequena que \\303\\240s vezes \\303\\251 ignorada.)\"\n",
              " }\n",
              " role: \"model\"]"
            ]
          },
          "metadata": {},
          "execution_count": 17
        }
      ]
    },
    {
      "cell_type": "code",
      "source": [
        "#Melhorando a visualização\n",
        "#Código disponível em https://ai.google.dev/tutorials/python_quickstart#import_packages\n",
        "import textwrap\n",
        "from IPython.display import display\n",
        "from IPython.display import Markdown\n",
        "\n",
        "def to_markdown(text):\n",
        "  text = text.replace('•', '  *')\n",
        "  return Markdown(textwrap.indent(text, '> ', predicate=lambda _: True))\n",
        "\n",
        "#Imprimindo o histórico\n",
        "for message in chat.history:\n",
        "  display(to_markdown(f'**{message.role}**: {message.parts[0].text}'))\n",
        "  print('-------------------------------------------')"
      ],
      "metadata": {
        "colab": {
          "base_uri": "https://localhost:8080/",
          "height": 509
        },
        "id": "7_gmijd1sC0Z",
        "outputId": "6c4d9e97-7050-4344-babd-3aae0dccf64d"
      },
      "execution_count": 15,
      "outputs": [
        {
          "output_type": "display_data",
          "data": {
            "text/plain": [
              "<IPython.core.display.Markdown object>"
            ],
            "text/markdown": "> **user**: Qual a capital da Italia"
          },
          "metadata": {}
        },
        {
          "output_type": "stream",
          "name": "stdout",
          "text": [
            "-------------------------------------------\n"
          ]
        },
        {
          "output_type": "display_data",
          "data": {
            "text/plain": [
              "<IPython.core.display.Markdown object>"
            ],
            "text/markdown": "> **model**: Roma"
          },
          "metadata": {}
        },
        {
          "output_type": "stream",
          "name": "stdout",
          "text": [
            "-------------------------------------------\n"
          ]
        },
        {
          "output_type": "display_data",
          "data": {
            "text/plain": [
              "<IPython.core.display.Markdown object>"
            ],
            "text/markdown": "> **user**: Qual e a lingua deste pais"
          },
          "metadata": {}
        },
        {
          "output_type": "stream",
          "name": "stdout",
          "text": [
            "-------------------------------------------\n"
          ]
        },
        {
          "output_type": "display_data",
          "data": {
            "text/plain": [
              "<IPython.core.display.Markdown object>"
            ],
            "text/markdown": "> **model**: Italiano"
          },
          "metadata": {}
        },
        {
          "output_type": "stream",
          "name": "stdout",
          "text": [
            "-------------------------------------------\n"
          ]
        },
        {
          "output_type": "display_data",
          "data": {
            "text/plain": [
              "<IPython.core.display.Markdown object>"
            ],
            "text/markdown": "> **user**: quais os paises que fazem fronteira com ele"
          },
          "metadata": {}
        },
        {
          "output_type": "stream",
          "name": "stdout",
          "text": [
            "-------------------------------------------\n"
          ]
        },
        {
          "output_type": "display_data",
          "data": {
            "text/plain": [
              "<IPython.core.display.Markdown object>"
            ],
            "text/markdown": "> **model**: * Áustria\n> * Eslovênia\n> * França\n> * Suíça\n> * Cidade do Vaticano\n> * San Marino\n> \n> (Observação: a Itália também tem uma pequena fronteira com Mônaco, mas é tão pequena que às vezes é ignorada.)"
          },
          "metadata": {}
        },
        {
          "output_type": "stream",
          "name": "stdout",
          "text": [
            "-------------------------------------------\n"
          ]
        }
      ]
    }
  ]
}